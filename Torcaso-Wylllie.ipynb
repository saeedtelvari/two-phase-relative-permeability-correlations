{
 "cells": [
  {
   "cell_type": "markdown",
   "id": "214b7ca0",
   "metadata": {},
   "source": [
    "## Torcaso & Wyllie Equation\n",
    "Calculates relative permeability of oil using relative perm of gas, which is easier to obtain in lab."
   ]
  },
  {
   "cell_type": "code",
   "execution_count": 1,
   "id": "04df2109",
   "metadata": {},
   "outputs": [
    {
     "name": "stdout",
     "output_type": "stream",
     "text": [
      "Connate Water Saturation : 0.2\n"
     ]
    }
   ],
   "source": [
    "Swc = float(input('Connate Water Saturation : '))"
   ]
  },
  {
   "cell_type": "code",
   "execution_count": 12,
   "id": "c1328887",
   "metadata": {},
   "outputs": [
    {
     "name": "stdout",
     "output_type": "stream",
     "text": [
      "Oil Saturation : 0.7\n"
     ]
    }
   ],
   "source": [
    "So = float(input('Oil Saturation : '))"
   ]
  },
  {
   "cell_type": "code",
   "execution_count": 3,
   "id": "4fa45d24",
   "metadata": {},
   "outputs": [
    {
     "name": "stdout",
     "output_type": "stream",
     "text": [
      "Gas Relative Permeability : 0.002\n"
     ]
    }
   ],
   "source": [
    "krg = float(input('Gas Relative Permeability : '))"
   ]
  },
  {
   "cell_type": "code",
   "execution_count": 13,
   "id": "f7a45669",
   "metadata": {},
   "outputs": [],
   "source": [
    "So = So/(1-Swc)"
   ]
  },
  {
   "cell_type": "code",
   "execution_count": 14,
   "id": "8f2f243f",
   "metadata": {},
   "outputs": [],
   "source": [
    "kro = krg * (So**4) / (1-So)**2 / (1-So**2)"
   ]
  },
  {
   "cell_type": "code",
   "execution_count": 15,
   "id": "5d7a7aae",
   "metadata": {},
   "outputs": [
    {
     "data": {
      "text/plain": [
       "0.3201333333333322"
      ]
     },
     "execution_count": 15,
     "metadata": {},
     "output_type": "execute_result"
    }
   ],
   "source": [
    "kro"
   ]
  },
  {
   "cell_type": "code",
   "execution_count": null,
   "id": "503bd5ee",
   "metadata": {},
   "outputs": [],
   "source": []
  }
 ],
 "metadata": {
  "kernelspec": {
   "display_name": "Python 3 (ipykernel)",
   "language": "python",
   "name": "python3"
  },
  "language_info": {
   "codemirror_mode": {
    "name": "ipython",
    "version": 3
   },
   "file_extension": ".py",
   "mimetype": "text/x-python",
   "name": "python",
   "nbconvert_exporter": "python",
   "pygments_lexer": "ipython3",
   "version": "3.8.11"
  }
 },
 "nbformat": 4,
 "nbformat_minor": 5
}
