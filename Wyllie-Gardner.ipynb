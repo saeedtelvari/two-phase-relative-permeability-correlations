{
 "cells": [
  {
   "cell_type": "code",
   "execution_count": 84,
   "id": "ea5af74e",
   "metadata": {},
   "outputs": [],
   "source": [
    "import WyllieGardnerFunction as WG\n",
    "reload()"
   ]
  },
  {
   "cell_type": "code",
   "execution_count": 51,
   "id": "408663c1",
   "metadata": {
    "scrolled": true
   },
   "outputs": [
    {
     "name": "stdout",
     "output_type": "stream",
     "text": [
      "Water Saturation : 0.3\n"
     ]
    }
   ],
   "source": [
    "Sw = float(input('Water Saturation : '))"
   ]
  },
  {
   "cell_type": "code",
   "execution_count": 52,
   "id": "cc88f760",
   "metadata": {
    "scrolled": true
   },
   "outputs": [
    {
     "name": "stdout",
     "output_type": "stream",
     "text": [
      "Oil Saturation : 0.7\n"
     ]
    }
   ],
   "source": [
    "So = float(input('Oil Saturation : '))"
   ]
  },
  {
   "cell_type": "code",
   "execution_count": 53,
   "id": "29708532",
   "metadata": {
    "scrolled": true
   },
   "outputs": [
    {
     "name": "stdout",
     "output_type": "stream",
     "text": [
      "Connate Water Saturation : 0.2\n"
     ]
    }
   ],
   "source": [
    "Swc = float(input('Connate Water Saturation : '))"
   ]
  },
  {
   "cell_type": "markdown",
   "id": "8e10b5e2",
   "metadata": {},
   "source": [
    "##### Formation Rock type Guide\n",
    "Enter the two-letter word for the chosen formation\n",
    "- Unconsolidated Sand, Well Sorted    : UW\n",
    "- Unconsolidated Sand, Poorly Sorted  : UP\n",
    "- Cemented Sand/oolithic limestone    : CO"
   ]
  },
  {
   "cell_type": "code",
   "execution_count": 54,
   "id": "db5ec107",
   "metadata": {
    "scrolled": true
   },
   "outputs": [
    {
     "name": "stdout",
     "output_type": "stream",
     "text": [
      "Formation Rock : uw\n"
     ]
    }
   ],
   "source": [
    "rock_type = input('Formation Rock : ')"
   ]
  },
  {
   "cell_type": "code",
   "execution_count": 85,
   "id": "db945652",
   "metadata": {},
   "outputs": [
    {
     "name": "stdout",
     "output_type": "stream",
     "text": [
      "Invalid input\n"
     ]
    }
   ],
   "source": [
    "krw = WG.WG_oil_water(Sw = 0.3, So = 0.7, Swc = 0.2, rock_type = 'UP')"
   ]
  },
  {
   "cell_type": "code",
   "execution_count": null,
   "id": "e628ea3c",
   "metadata": {},
   "outputs": [],
   "source": []
  }
 ],
 "metadata": {
  "kernelspec": {
   "display_name": "Python 3 (ipykernel)",
   "language": "python",
   "name": "python3"
  },
  "language_info": {
   "codemirror_mode": {
    "name": "ipython",
    "version": 3
   },
   "file_extension": ".py",
   "mimetype": "text/x-python",
   "name": "python",
   "nbconvert_exporter": "python",
   "pygments_lexer": "ipython3",
   "version": "3.8.11"
  }
 },
 "nbformat": 4,
 "nbformat_minor": 5
}
