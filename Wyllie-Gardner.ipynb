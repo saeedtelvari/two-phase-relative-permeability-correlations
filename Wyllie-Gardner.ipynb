{
 "cells": [
  {
   "cell_type": "code",
   "execution_count": 112,
   "id": "ea5af74e",
   "metadata": {},
   "outputs": [],
   "source": [
    "from importlib import reload\n",
    "import WyllieGardnerFunction as WG"
   ]
  },
  {
   "cell_type": "code",
   "execution_count": 113,
   "id": "6ecaf60d",
   "metadata": {},
   "outputs": [],
   "source": [
    "WG = reload(WG)"
   ]
  },
  {
   "cell_type": "code",
   "execution_count": 51,
   "id": "408663c1",
   "metadata": {
    "scrolled": true
   },
   "outputs": [
    {
     "name": "stdout",
     "output_type": "stream",
     "text": [
      "Water Saturation : 0.3\n"
     ]
    }
   ],
   "source": [
    "Sw = float(input('Water Saturation : '))"
   ]
  },
  {
   "cell_type": "code",
   "execution_count": 52,
   "id": "cc88f760",
   "metadata": {
    "scrolled": true
   },
   "outputs": [
    {
     "name": "stdout",
     "output_type": "stream",
     "text": [
      "Oil Saturation : 0.7\n"
     ]
    }
   ],
   "source": [
    "So = float(input('Oil Saturation : '))"
   ]
  },
  {
   "cell_type": "code",
   "execution_count": 53,
   "id": "29708532",
   "metadata": {
    "scrolled": true
   },
   "outputs": [
    {
     "name": "stdout",
     "output_type": "stream",
     "text": [
      "Connate Water Saturation : 0.2\n"
     ]
    }
   ],
   "source": [
    "Swc = float(input('Connate Water Saturation : '))"
   ]
  },
  {
   "cell_type": "markdown",
   "id": "8e10b5e2",
   "metadata": {},
   "source": [
    "##### Formation Rock type Guide\n",
    "Enter the two-letter word for the chosen formation\n",
    "- Unconsolidated Sand, Well Sorted    : UW\n",
    "- Unconsolidated Sand, Poorly Sorted  : UP\n",
    "- Cemented Sand/oolithic limestone    : CO"
   ]
  },
  {
   "cell_type": "code",
   "execution_count": 110,
   "id": "db5ec107",
   "metadata": {
    "scrolled": true
   },
   "outputs": [
    {
     "name": "stdout",
     "output_type": "stream",
     "text": [
      "Formation Rock : co\n"
     ]
    }
   ],
   "source": [
    "rock_type = input('Formation Rock : ')"
   ]
  },
  {
   "cell_type": "code",
   "execution_count": 153,
   "id": "db945652",
   "metadata": {},
   "outputs": [],
   "source": [
    "krw_ow, kro_ow = WG.oil_water(Sw = Sw, So = So, Swc = Swc, rock_type = rock_type)"
   ]
  },
  {
   "cell_type": "code",
   "execution_count": 154,
   "id": "4fd5c053",
   "metadata": {},
   "outputs": [
    {
     "name": "stdout",
     "output_type": "stream",
     "text": [
      "krw : 0.586\n",
      "kro : 0.015\n"
     ]
    }
   ],
   "source": [
    "print(f'krw : {krw_ow:.3f}\\n\\\n",
    "kro : {kro_ow:.3f}')"
   ]
  },
  {
   "cell_type": "code",
   "execution_count": 155,
   "id": "7f91a120",
   "metadata": {},
   "outputs": [],
   "source": [
    "krg_og, kro_og = WG.oil_gas(So = So, Swc = Swc, rock_type = rock_type)"
   ]
  },
  {
   "cell_type": "code",
   "execution_count": 156,
   "id": "7c662c56",
   "metadata": {},
   "outputs": [
    {
     "name": "stdout",
     "output_type": "stream",
     "text": [
      "krg : 0.0037\n",
      "kro : 0.586\n"
     ]
    }
   ],
   "source": [
    "print(f'krg : {krg_og:.4f}\\n\\\n",
    "kro : {kro_og:.3f}')"
   ]
  },
  {
   "cell_type": "code",
   "execution_count": null,
   "id": "12d61603",
   "metadata": {},
   "outputs": [],
   "source": []
  }
 ],
 "metadata": {
  "kernelspec": {
   "display_name": "Python 3 (ipykernel)",
   "language": "python",
   "name": "python3"
  },
  "language_info": {
   "codemirror_mode": {
    "name": "ipython",
    "version": 3
   },
   "file_extension": ".py",
   "mimetype": "text/x-python",
   "name": "python",
   "nbconvert_exporter": "python",
   "pygments_lexer": "ipython3",
   "version": "3.8.11"
  }
 },
 "nbformat": 4,
 "nbformat_minor": 5
}
