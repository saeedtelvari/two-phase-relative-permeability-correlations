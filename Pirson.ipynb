{
 "cells": [
  {
   "cell_type": "code",
   "execution_count": 16,
   "id": "cb0905e5",
   "metadata": {},
   "outputs": [],
   "source": [
    "from importlib import reload\n",
    "import PirsonFunction as PF"
   ]
  },
  {
   "cell_type": "code",
   "execution_count": 17,
   "id": "8dd6b88a",
   "metadata": {},
   "outputs": [],
   "source": [
    "PF = reload(PF)"
   ]
  },
  {
   "cell_type": "code",
   "execution_count": 29,
   "id": "65ffffb6",
   "metadata": {},
   "outputs": [
    {
     "name": "stdout",
     "output_type": "stream",
     "text": [
      "Wetting phase (Water) Saturation : 0.7\n"
     ]
    }
   ],
   "source": [
    "Sw = float(input('Wetting phase (Water) Saturation : '))"
   ]
  },
  {
   "cell_type": "code",
   "execution_count": 30,
   "id": "fefd3a95",
   "metadata": {},
   "outputs": [
    {
     "name": "stdout",
     "output_type": "stream",
     "text": [
      "Non-Wetting phase Saturation : 0.3\n"
     ]
    }
   ],
   "source": [
    "Snw = float(input('Non-Wetting phase Saturation : '))"
   ]
  },
  {
   "cell_type": "code",
   "execution_count": 6,
   "id": "17dce0de",
   "metadata": {},
   "outputs": [
    {
     "name": "stdout",
     "output_type": "stream",
     "text": [
      "Connate Water Saturation : 0.2\n"
     ]
    }
   ],
   "source": [
    "Swc = float(input('Connate Water Saturation : '))"
   ]
  },
  {
   "cell_type": "code",
   "execution_count": 31,
   "id": "89dd1cf6",
   "metadata": {},
   "outputs": [],
   "source": [
    "krw = PF.wet_phase(Sw = Sw, Swc = Swc)"
   ]
  },
  {
   "cell_type": "markdown",
   "id": "9ab9d814",
   "metadata": {},
   "source": [
    "### Imbibition"
   ]
  },
  {
   "cell_type": "code",
   "execution_count": 35,
   "id": "facbe011",
   "metadata": {},
   "outputs": [],
   "source": [
    "krnw_imb = PF.imbibition_nw(Snw, Sw, Swc)"
   ]
  },
  {
   "cell_type": "code",
   "execution_count": 36,
   "id": "3bc478b2",
   "metadata": {},
   "outputs": [
    {
     "name": "stdout",
     "output_type": "stream",
     "text": [
      "krw : 0.271\n",
      "krnw : 0.000\n"
     ]
    }
   ],
   "source": [
    "print(f'krw : {krw:.3f}\\n\\\n",
    "krnw : {krnw_imb:.3f}')"
   ]
  },
  {
   "cell_type": "markdown",
   "id": "c2429aa2",
   "metadata": {},
   "source": [
    "### Drainage"
   ]
  },
  {
   "cell_type": "code",
   "execution_count": 37,
   "id": "56e66f1c",
   "metadata": {},
   "outputs": [],
   "source": [
    "krnw_drg = PF.drainage_nw(Sw, Swc)"
   ]
  },
  {
   "cell_type": "code",
   "execution_count": 38,
   "id": "c423e6c7",
   "metadata": {},
   "outputs": [
    {
     "name": "stdout",
     "output_type": "stream",
     "text": [
      "krw : 0.271\n",
      "krnw : 0.190\n"
     ]
    }
   ],
   "source": [
    "print(f'krw : {krw:.3f}\\n\\\n",
    "krnw : {krnw_drg:.3f}')"
   ]
  },
  {
   "cell_type": "code",
   "execution_count": null,
   "id": "88fab4c8",
   "metadata": {},
   "outputs": [],
   "source": []
  }
 ],
 "metadata": {
  "kernelspec": {
   "display_name": "Python 3 (ipykernel)",
   "language": "python",
   "name": "python3"
  },
  "language_info": {
   "codemirror_mode": {
    "name": "ipython",
    "version": 3
   },
   "file_extension": ".py",
   "mimetype": "text/x-python",
   "name": "python",
   "nbconvert_exporter": "python",
   "pygments_lexer": "ipython3",
   "version": "3.8.11"
  }
 },
 "nbformat": 4,
 "nbformat_minor": 5
}
