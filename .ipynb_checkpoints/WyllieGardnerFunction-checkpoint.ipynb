{
 "cells": [
  {
   "cell_type": "code",
   "execution_count": 2,
   "id": "c8dd5d2d",
   "metadata": {},
   "outputs": [],
   "source": [
    "import numpy as np"
   ]
  },
  {
   "cell_type": "code",
   "execution_count": 5,
   "id": "72bfab1f",
   "metadata": {},
   "outputs": [],
   "source": [
    "def WG_oil_water(Sw = 0, So = 0, Swc = 0, rock_type = 'UW'):\n",
    "    if (Sw, So, Swc > 1) or (Sw, So, Swc <= 0):\n",
    "        print('Invalid input')\n",
    "        return\n",
    "    eff_sw = Sw/(1-Swc)\n",
    "    eff_so = So/(1-Swc)\n",
    "    krw = 0\n",
    "    kro = 0\n",
    "    if rock_type.upper() == 'UW':\n",
    "        krw = np.power(eff_sw, 3)\n",
    "        kro = 1 - eff_sw\n",
    "    if rock_type.upper() == 'UP':\n",
    "        krw = np.power(eff_so, 3.5)\n",
    "        kro = np.power(1-eff_sw, 2) * (1-np.power(eff_sw, 1.5))\n",
    "    if rock_type.upper() == 'CO':\n",
    "        krw = np.power(eff_so, 4)\n",
    "        kro = np.power(1-eff_so, 2) * (1-np.power(eff_sw, 2))\n",
    "        \n",
    "    return krw, kro"
   ]
  },
  {
   "cell_type": "code",
   "execution_count": 8,
   "id": "164db301",
   "metadata": {},
   "outputs": [],
   "source": [
    "def WG_oil_gas(So = 0, Swc = 0, rock_type = 'UW'):\n",
    "    if (Sw, So, Swc > 1) or (Sw, So, Swc <= 0):\n",
    "        print('Invalid input')\n",
    "        return\n",
    "    eff_so = So/(1-Swc)\n",
    "    krg = 0\n",
    "    kro = 0\n",
    "    if rock_type.upper() == 'UW':\n",
    "        krg = np.power(1-eff_so, 3)\n",
    "        kro = np.power(eff_so, 3)\n",
    "    if rock_type.upper() == 'UP':\n",
    "        krg = np.power(1-eff_so, 2) * (1-np.power(eff_so, 1.5))\n",
    "        kro = np.power(eff_so, 3.5)\n",
    "    if rock_type.upper() == 'CO':\n",
    "        krg = np.power(1-eff_so, 2) * (1-np.power(eff_so, 2))\n",
    "        kro = np.power(eff_so, 4)\n",
    "        \n",
    "    return krg, kro"
   ]
  },
  {
   "cell_type": "code",
   "execution_count": null,
   "id": "8b9383c8",
   "metadata": {},
   "outputs": [],
   "source": []
  }
 ],
 "metadata": {
  "kernelspec": {
   "display_name": "Python 3 (ipykernel)",
   "language": "python",
   "name": "python3"
  },
  "language_info": {
   "codemirror_mode": {
    "name": "ipython",
    "version": 3
   },
   "file_extension": ".py",
   "mimetype": "text/x-python",
   "name": "python",
   "nbconvert_exporter": "python",
   "pygments_lexer": "ipython3",
   "version": "3.8.11"
  }
 },
 "nbformat": 4,
 "nbformat_minor": 5
}
