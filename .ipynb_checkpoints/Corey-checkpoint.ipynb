{
 "cells": [
  {
   "cell_type": "code",
   "execution_count": 15,
   "id": "227252df",
   "metadata": {},
   "outputs": [],
   "source": [
    "from importlib import reload\n",
    "import CoreyFunctions as CF"
   ]
  },
  {
   "cell_type": "code",
   "execution_count": 16,
   "id": "bf0a313f",
   "metadata": {},
   "outputs": [],
   "source": [
    "CF = reload(CF)"
   ]
  },
  {
   "cell_type": "code",
   "execution_count": 17,
   "id": "0e46b186",
   "metadata": {},
   "outputs": [],
   "source": [
    "OG = CF.oil_gas()\n",
    "OW = CF.oil_water()"
   ]
  },
  {
   "cell_type": "code",
   "execution_count": 34,
   "id": "b6dda88f",
   "metadata": {},
   "outputs": [
    {
     "name": "stdout",
     "output_type": "stream",
     "text": [
      "Water Saturation : 0.2\n",
      "Gas Saturation : 0.6\n",
      "Connate Water Saturation: 0.1\n"
     ]
    }
   ],
   "source": [
    "Sg = float(input('Gas Saturation : '))\n",
    "Swc = float(input('Connate Water Saturation: '))"
   ]
  },
  {
   "cell_type": "code",
   "execution_count": 35,
   "id": "d5be150e",
   "metadata": {
    "scrolled": true
   },
   "outputs": [],
   "source": [
    "kro = OG.kr_oil(Sg, Swc)\n",
    "krg = OG.kr_gas(Sg, Swc)"
   ]
  },
  {
   "cell_type": "code",
   "execution_count": 36,
   "id": "efd9a029",
   "metadata": {
    "scrolled": true
   },
   "outputs": [
    {
     "name": "stdout",
     "output_type": "stream",
     "text": [
      "Kro : 0.012\n",
      "Krg : 0.889\n"
     ]
    }
   ],
   "source": [
    "print(f'Kro : {kro:.3f}\\n\\\n",
    "Krg : {krg:.3f}')"
   ]
  },
  {
   "cell_type": "code",
   "execution_count": 46,
   "id": "3a90e818",
   "metadata": {},
   "outputs": [
    {
     "name": "stdout",
     "output_type": "stream",
     "text": [
      "Water Saturation : 0.8\n",
      "Connate Water Saturation : 0.1\n"
     ]
    }
   ],
   "source": [
    "Sw = float(input('Water Saturation : '))\n",
    "Swc = float(input('Connate Water Saturation : '))"
   ]
  },
  {
   "cell_type": "code",
   "execution_count": 47,
   "id": "cf76dee5",
   "metadata": {},
   "outputs": [],
   "source": [
    "kro = OW.kr_oil(Sw, Swc, n=4)\n",
    "krw = OW.kr_water(Sw, Swc, m=4)"
   ]
  },
  {
   "cell_type": "code",
   "execution_count": 48,
   "id": "88abd645",
   "metadata": {},
   "outputs": [
    {
     "name": "stdout",
     "output_type": "stream",
     "text": [
      "Kro : 0.0024\n",
      "Krw : 0.36595\n"
     ]
    }
   ],
   "source": [
    "print(f'Kro : {kro:.4f}\\n\\\n",
    "Krw : {krw:.5f}')"
   ]
  },
  {
   "cell_type": "code",
   "execution_count": null,
   "id": "7151f39d",
   "metadata": {},
   "outputs": [],
   "source": []
  }
 ],
 "metadata": {
  "kernelspec": {
   "display_name": "Python 3 (ipykernel)",
   "language": "python",
   "name": "python3"
  },
  "language_info": {
   "codemirror_mode": {
    "name": "ipython",
    "version": 3
   },
   "file_extension": ".py",
   "mimetype": "text/x-python",
   "name": "python",
   "nbconvert_exporter": "python",
   "pygments_lexer": "ipython3",
   "version": "3.8.11"
  }
 },
 "nbformat": 4,
 "nbformat_minor": 5
}
