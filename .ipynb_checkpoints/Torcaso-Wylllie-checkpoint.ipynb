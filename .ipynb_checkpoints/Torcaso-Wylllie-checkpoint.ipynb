{
 "cells": [
  {
   "cell_type": "markdown",
   "id": "214b7ca0",
   "metadata": {},
   "source": [
    "## Torcaso & Wyllie Equation\n",
    "Calculates relative permeability of oil using relative permeability of gas, which is easier to obtain in lab."
   ]
  },
  {
   "cell_type": "code",
   "execution_count": 56,
   "id": "18e884c0",
   "metadata": {},
   "outputs": [],
   "source": [
    "import matplotlib.pyplot as plt"
   ]
  },
  {
   "cell_type": "code",
   "execution_count": 32,
   "id": "04df2109",
   "metadata": {},
   "outputs": [
    {
     "name": "stdout",
     "output_type": "stream",
     "text": [
      "Connate Water Saturation : 0.2\n",
      "Oil Saturation : 0.6\n",
      "Gas Relative Permeability : 0.05\n"
     ]
    }
   ],
   "source": [
    "Swc = float(input('Connate Water Saturation : '))\n",
    "So_user = float(input('Oil Saturation : '))\n",
    "krg_user = float(input('Gas Relative Permeability : '))"
   ]
  },
  {
   "cell_type": "code",
   "execution_count": 33,
   "id": "f7a45669",
   "metadata": {},
   "outputs": [],
   "source": [
    "# Calculate effective oil saturation\n",
    "So = So_user/(1-Swc)"
   ]
  },
  {
   "cell_type": "code",
   "execution_count": 48,
   "id": "8f2f243f",
   "metadata": {},
   "outputs": [],
   "source": [
    "# Torcaso & Wyllie Equation\n",
    "def Torcaso_Wyllie(So, krg):\n",
    "    kro = krg * (So**4) / ((1-So)**2) / (1-So**2)\n",
    "    return kro\n",
    "\n",
    "kro = Torcaso_Wyllie(So, krg_user)"
   ]
  },
  {
   "cell_type": "code",
   "execution_count": 47,
   "id": "5d7a7aae",
   "metadata": {},
   "outputs": [
    {
     "name": "stdout",
     "output_type": "stream",
     "text": [
      "Kro = 0.579\n"
     ]
    }
   ],
   "source": [
    "print(f'Kro = {kro:.3f}')"
   ]
  },
  {
   "cell_type": "markdown",
   "id": "27b0727f",
   "metadata": {},
   "source": [
    "__Relative Permeability Curve__"
   ]
  },
  {
   "cell_type": "code",
   "execution_count": 88,
   "id": "8690624e",
   "metadata": {},
   "outputs": [],
   "source": [
    "S_o = [i/10 for i in range(0, 10)]\n",
    "S_g = [i/10 for i in range(10, 0, -1)]\n",
    "kr_g = [0.002, 0.004, 0.019, 0.064, 0.152, 0.276, 0.40, 0.512, 0.714, 0.983]\n",
    "Y_kro = [Torcaso_Wyllie(S_o[i], kr_g[i]) for i in range(0, 10)]"
   ]
  },
  {
   "cell_type": "code",
   "execution_count": 91,
   "id": "1733f677",
   "metadata": {},
   "outputs": [
    {
     "data": {
      "image/png": "[encoded data removed]",
      "text/plain": [
       "<Figure size 432x288 with 1 Axes>"
      ]
     },
     "metadata": {
      "needs_background": "light"
     },
     "output_type": "display_data"
    }
   ],
   "source": [
    "plt.ylim([0, 1])\n",
    "plt.xlim([0, 1])\n",
    "plt.plot(S_g, kr_g, color = 'yellow', label = 'Gas')\n",
    "plt.plot(S_o, Y_kro, color = 'red', label = 'Oil')\n",
    "plt.legend()\n",
    "plt.xlabel('Water Saturaion')\n",
    "plt.ylabel('Relative Permeability')\n",
    "plt.title('Relative Permeability Curve')\n",
    "plt.show()"
   ]
  }
 ],
 "metadata": {
  "kernelspec": {
   "display_name": "Python 3 (ipykernel)",
   "language": "python",
   "name": "python3"
  },
  "language_info": {
   "codemirror_mode": {
    "name": "ipython",
    "version": 3
   },
   "file_extension": ".py",
   "mimetype": "text/x-python",
   "name": "python",
   "nbconvert_exporter": "python",
   "pygments_lexer": "ipython3",
   "version": "3.8.11"
  }
 },
 "nbformat": 4,
 "nbformat_minor": 5
}
