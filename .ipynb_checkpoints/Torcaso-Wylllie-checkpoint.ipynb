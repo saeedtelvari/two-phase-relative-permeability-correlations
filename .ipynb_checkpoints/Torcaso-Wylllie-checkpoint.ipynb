{
 "cells": [
  {
   "cell_type": "markdown",
   "id": "214b7ca0",
   "metadata": {},
   "source": [
    "## Torcaso & Wyllie Equation\n",
    "Calculates relative permeability of oil using relative permeability of gas, which is easier to obtain in lab."
   ]
  },
  {
   "cell_type": "code",
   "execution_count": 32,
   "id": "04df2109",
   "metadata": {},
   "outputs": [
    {
     "name": "stdout",
     "output_type": "stream",
     "text": [
      "Connate Water Saturation : 0.2\n",
      "Oil Saturation : 0.6\n",
      "Gas Relative Permeability : 0.05\n"
     ]
    }
   ],
   "source": [
    "Swc = float(input('Connate Water Saturation : '))\n",
    "So_user = float(input('Oil Saturation : '))\n",
    "krg_user = float(input('Gas Relative Permeability : '))"
   ]
  },
  {
   "cell_type": "code",
   "execution_count": 33,
   "id": "f7a45669",
   "metadata": {},
   "outputs": [],
   "source": [
    "# Calculate effective oil saturation\n",
    "So = So_user/(1-Swc)"
   ]
  },
  {
   "cell_type": "code",
   "execution_count": 36,
   "id": "8f2f243f",
   "metadata": {},
   "outputs": [],
   "source": [
    "# Torcaso & Wyllie Equation\n",
    "kro = krg_user * (So**4) / ((1-So)**2) / (1-So**2)"
   ]
  },
  {
   "cell_type": "code",
   "execution_count": 37,
   "id": "5d7a7aae",
   "metadata": {},
   "outputs": [
    {
     "name": "stdout",
     "output_type": "stream",
     "text": [
      "Kro = 0.579\n"
     ]
    }
   ],
   "source": [
    "print(f'Kro = {kro:.3f}')"
   ]
  }
 ],
 "metadata": {
  "kernelspec": {
   "display_name": "Python 3 (ipykernel)",
   "language": "python",
   "name": "python3"
  },
  "language_info": {
   "codemirror_mode": {
    "name": "ipython",
    "version": 3
   },
   "file_extension": ".py",
   "mimetype": "text/x-python",
   "name": "python",
   "nbconvert_exporter": "python",
   "pygments_lexer": "ipython3",
   "version": "3.8.11"
  }
 },
 "nbformat": 4,
 "nbformat_minor": 5
}
