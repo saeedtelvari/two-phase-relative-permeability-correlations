{
 "cells": [
  {
   "cell_type": "code",
   "execution_count": 16,
   "id": "533d811f",
   "metadata": {},
   "outputs": [],
   "source": [
    "from importlib import reload\n",
    "import PirsonFunction as PF"
   ]
  },
  {
   "cell_type": "code",
   "execution_count": 17,
   "id": "8ee05f1b",
   "metadata": {},
   "outputs": [],
   "source": [
    "PF = reload(PF)"
   ]
  },
  {
   "cell_type": "code",
   "execution_count": 42,
   "id": "7f4cc2cb",
   "metadata": {},
   "outputs": [
    {
     "name": "stdout",
     "output_type": "stream",
     "text": [
      "Wetting phase (Water) Saturation : 0.4\n",
      "Non-Wetting phase Saturation     : 0.6\n",
      "Connate Water Saturation         : 0.2\n"
     ]
    }
   ],
   "source": [
    "Sw = float(input('Wetting phase (Water) Saturation : '))\n",
    "Snw = float(input('Non-Wetting phase Saturation     : '))\n",
    "Swc = float(input('Connate Water Saturation         : '))"
   ]
  },
  {
   "cell_type": "markdown",
   "id": "a197036e",
   "metadata": {},
   "source": [
    "### Wetting phase"
   ]
  },
  {
   "cell_type": "code",
   "execution_count": 52,
   "id": "6ee2af35",
   "metadata": {},
   "outputs": [
    {
     "name": "stdout",
     "output_type": "stream",
     "text": [
      "Krw : 0.032\n"
     ]
    }
   ],
   "source": [
    "krw = PF.wet_phase(Sw = Sw, Swc = Swc)\n",
    "print(f'Krw : {krw:.3f}')"
   ]
  },
  {
   "cell_type": "markdown",
   "id": "e31c404a",
   "metadata": {},
   "source": [
    "### Non-Wetting Phase |  Imbibition"
   ]
  },
  {
   "cell_type": "code",
   "execution_count": 53,
   "id": "31b20377",
   "metadata": {},
   "outputs": [],
   "source": [
    "krnw_imb = PF.imbibition_nw(Snw, Sw, Swc)"
   ]
  },
  {
   "cell_type": "code",
   "execution_count": 54,
   "id": "29a77447",
   "metadata": {},
   "outputs": [
    {
     "name": "stdout",
     "output_type": "stream",
     "text": [
      "Krw  : 0.032\n",
      "Krnw : 0.000\n"
     ]
    }
   ],
   "source": [
    "print(f'Krw  : {krw:.3f}\\n\\\n",
    "Krnw : {krnw_imb:.3f}')"
   ]
  },
  {
   "cell_type": "markdown",
   "id": "a0fe0a33",
   "metadata": {},
   "source": [
    "### Non-Wetting Phase | Drainage"
   ]
  },
  {
   "cell_type": "code",
   "execution_count": 55,
   "id": "b9a61623",
   "metadata": {},
   "outputs": [],
   "source": [
    "krnw_drg = PF.drainage_nw(Sw, Swc)"
   ]
  },
  {
   "cell_type": "code",
   "execution_count": 56,
   "id": "dfafab35",
   "metadata": {},
   "outputs": [
    {
     "name": "stdout",
     "output_type": "stream",
     "text": [
      "Krw  : 0.032\n",
      "Krnw : 0.558\n"
     ]
    }
   ],
   "source": [
    "print(f'Krw  : {krw:.3f}\\n\\\n",
    "Krnw : {krnw_drg:.3f}')"
   ]
  },
  {
   "cell_type": "code",
   "execution_count": null,
   "id": "3087e954",
   "metadata": {},
   "outputs": [],
   "source": []
  }
 ],
 "metadata": {
  "kernelspec": {
   "display_name": "Python 3 (ipykernel)",
   "language": "python",
   "name": "python3"
  },
  "language_info": {
   "codemirror_mode": {
    "name": "ipython",
    "version": 3
   },
   "file_extension": ".py",
   "mimetype": "text/x-python",
   "name": "python",
   "nbconvert_exporter": "python",
   "pygments_lexer": "ipython3",
   "version": "3.8.11"
  }
 },
 "nbformat": 4,
 "nbformat_minor": 5
}
