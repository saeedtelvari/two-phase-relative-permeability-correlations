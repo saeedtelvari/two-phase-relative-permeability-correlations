{
 "cells": [
  {
   "cell_type": "markdown",
   "id": "b37403e4",
   "metadata": {},
   "source": [
    "# Wyllie Gardner"
   ]
  },
  {
   "cell_type": "code",
   "execution_count": 35,
   "id": "ea5af74e",
   "metadata": {},
   "outputs": [],
   "source": [
    "from importlib import reload\n",
    "import WyllieGardnerFunction as WG\n",
    "import matplotlib.pyplot as plt"
   ]
  },
  {
   "cell_type": "code",
   "execution_count": 46,
   "id": "6ecaf60d",
   "metadata": {},
   "outputs": [],
   "source": [
    "WG = reload(WG)"
   ]
  },
  {
   "cell_type": "markdown",
   "id": "30c7dd8a",
   "metadata": {},
   "source": [
    "## Input data"
   ]
  },
  {
   "cell_type": "code",
   "execution_count": 5,
   "id": "408663c1",
   "metadata": {
    "scrolled": true
   },
   "outputs": [
    {
     "name": "stdout",
     "output_type": "stream",
     "text": [
      "Water Saturation : 0.4\n"
     ]
    }
   ],
   "source": [
    "Sw = float(input('Water Saturation : '))"
   ]
  },
  {
   "cell_type": "code",
   "execution_count": 6,
   "id": "cc88f760",
   "metadata": {
    "scrolled": true
   },
   "outputs": [
    {
     "name": "stdout",
     "output_type": "stream",
     "text": [
      "Oil Saturation : 0.6\n"
     ]
    }
   ],
   "source": [
    "So = float(input('Oil Saturation : '))"
   ]
  },
  {
   "cell_type": "code",
   "execution_count": 7,
   "id": "29708532",
   "metadata": {
    "scrolled": true
   },
   "outputs": [
    {
     "name": "stdout",
     "output_type": "stream",
     "text": [
      "Connate Water Saturation : 0.1\n"
     ]
    }
   ],
   "source": [
    "Swc = float(input('Connate Water Saturation : '))"
   ]
  },
  {
   "cell_type": "markdown",
   "id": "8e10b5e2",
   "metadata": {},
   "source": [
    "## Formation Rock type Guide\n",
    "Enter the two-letter word for the chosen formation\n",
    "- Unconsolidated Sand, Well Sorted    : UW\n",
    "- Unconsolidated Sand, Poorly Sorted  : UP\n",
    "- Cemented Sand/oolithic limestone    : CO"
   ]
  },
  {
   "cell_type": "code",
   "execution_count": 8,
   "id": "db5ec107",
   "metadata": {
    "scrolled": true
   },
   "outputs": [
    {
     "name": "stdout",
     "output_type": "stream",
     "text": [
      "Formation Rock : up\n"
     ]
    }
   ],
   "source": [
    "rock_type = input('Formation Rock : ')"
   ]
  },
  {
   "cell_type": "markdown",
   "id": "e03b390f",
   "metadata": {},
   "source": [
    "### Oil Water System"
   ]
  },
  {
   "cell_type": "code",
   "execution_count": 130,
   "id": "db945652",
   "metadata": {},
   "outputs": [],
   "source": [
    "krw_ow, kro_ow = WG.oil_water(Sw = Sw, So = So, Swc = Swc, rock_type = rock_type)"
   ]
  },
  {
   "cell_type": "code",
   "execution_count": 131,
   "id": "4fd5c053",
   "metadata": {
    "scrolled": true
   },
   "outputs": [
    {
     "name": "stdout",
     "output_type": "stream",
     "text": [
      "Relative Permeabilities are :\n",
      "Krw = 0.242\n",
      "Kro = 0.359\n"
     ]
    }
   ],
   "source": [
    "print('Relative Permeabilities are :')\n",
    "print(f'Krw = {krw_ow:.3f}\\n\\\n",
    "Kro = {kro_ow:.3f}')"
   ]
  },
  {
   "cell_type": "code",
   "execution_count": 132,
   "id": "df41ac7c",
   "metadata": {},
   "outputs": [],
   "source": [
    "S_o = [i/10 for i in range(0, 11)]\n",
    "S_g = [i/10 for i in range(10, -1, -1)]"
   ]
  },
  {
   "cell_type": "code",
   "execution_count": 145,
   "id": "f936943a",
   "metadata": {},
   "outputs": [],
   "source": [
    "Y_ow = [WG.oil_water(Sw = S_w[i], So = S_o[i], Swc = Swc, rock_type = rock_type) for i in range(0, 11)]\n",
    "y_w = [i[0] for i in Y_ow]\n",
    "y_o_ow = [i[1] for i in Y_ow]"
   ]
  },
  {
   "cell_type": "code",
   "execution_count": 154,
   "id": "1cc0a918",
   "metadata": {
    "scrolled": true
   },
   "outputs": [
    {
     "data": {
      "image/png": "[encoded data removed]",
      "text/plain": [
       "<Figure size 432x288 with 1 Axes>"
      ]
     },
     "metadata": {
      "needs_background": "light"
     },
     "output_type": "display_data"
    }
   ],
   "source": [
    "plt.ylim([0, 1])\n",
    "plt.xlim([0, 1])\n",
    "plt.plot(S_w, y_w, color = 'blue', label = 'Water')\n",
    "plt.plot(S_o, y_o_ow, color = 'red', label = 'Oil')\n",
    "plt.legend()\n",
    "plt.xlabel('Water Saturaion')\n",
    "plt.ylabel('Relative Permeability')\n",
    "plt.title('Relative Permeability Curve')\n",
    "plt.show()\n",
    "# Note : Connate Water saturation (Swc) is constant and the saturations are effective saturations."
   ]
  },
  {
   "cell_type": "markdown",
   "id": "4fddda68",
   "metadata": {},
   "source": [
    "### Oil Gas System"
   ]
  },
  {
   "cell_type": "code",
   "execution_count": 147,
   "id": "7f91a120",
   "metadata": {},
   "outputs": [],
   "source": [
    "krg_og, kro_og = WG.oil_gas(So = So, Swc = Swc, rock_type = rock_type)"
   ]
  },
  {
   "cell_type": "code",
   "execution_count": 148,
   "id": "7c662c56",
   "metadata": {},
   "outputs": [
    {
     "name": "stdout",
     "output_type": "stream",
     "text": [
      "Relative Permeabilities are :\n",
      "Krg = 0.0506\n",
      "Kro = 0.242\n"
     ]
    }
   ],
   "source": [
    "print('Relative Permeabilities are :')\n",
    "print(f'Krg = {krg_og:.4f}\\n\\\n",
    "Kro = {kro_og:.3f}')"
   ]
  },
  {
   "cell_type": "code",
   "execution_count": 149,
   "id": "494f256e",
   "metadata": {},
   "outputs": [],
   "source": [
    "S = [i/10 for i in range(0, 10)]"
   ]
  },
  {
   "cell_type": "code",
   "execution_count": 150,
   "id": "2b0819ea",
   "metadata": {},
   "outputs": [],
   "source": [
    "Y_og = [WG.oil_gas(So = S_o[i], Swc = Swc, rock_type = rock_type) for i in range(0, 10)]\n",
    "y_g = [i[0] for i in Y_og]\n",
    "y_o_og = [i[1] for i in Y_og]"
   ]
  },
  {
   "cell_type": "code",
   "execution_count": 155,
   "id": "a9db7c51",
   "metadata": {
    "scrolled": true
   },
   "outputs": [
    {
     "data": {
      "image/png": "[encoded data removed]",
      "text/plain": [
       "<Figure size 432x288 with 1 Axes>"
      ]
     },
     "metadata": {
      "needs_background": "light"
     },
     "output_type": "display_data"
    }
   ],
   "source": [
    "plt.ylim([0, 1])\n",
    "plt.xlim([0, 1])\n",
    "plt.plot(S, y_g, color = 'yellow', label = 'Gas')\n",
    "plt.plot(S, y_o_og, color = 'red', label = 'Oil')\n",
    "plt.legend()\n",
    "plt.xlabel('Oil Saturaion')\n",
    "plt.ylabel('Relative Permeability')\n",
    "plt.title('Relative Permeability Curve for Oil-Gas System')\n",
    "plt.show()\n",
    "# Note : Connate Water saturation (Swc) is constant and the saturations are effective saturations."
   ]
  }
 ],
 "metadata": {
  "kernelspec": {
   "display_name": "Python 3 (ipykernel)",
   "language": "python",
   "name": "python3"
  },
  "language_info": {
   "codemirror_mode": {
    "name": "ipython",
    "version": 3
   },
   "file_extension": ".py",
   "mimetype": "text/x-python",
   "name": "python",
   "nbconvert_exporter": "python",
   "pygments_lexer": "ipython3",
   "version": "3.8.11"
  }
 },
 "nbformat": 4,
 "nbformat_minor": 5
}
